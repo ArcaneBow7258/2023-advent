{
 "cells": [
  {
   "cell_type": "code",
   "execution_count": 1,
   "id": "8f7cab4a-61c4-4c56-acf2-0d299ffddffc",
   "metadata": {},
   "outputs": [],
   "source": [
    "import re"
   ]
  },
  {
   "cell_type": "code",
   "execution_count": 9,
   "id": "86638c88-a1b7-469a-ad9d-051ecd53f2b2",
   "metadata": {},
   "outputs": [],
   "source": []
  },
  {
   "cell_type": "code",
   "execution_count": 12,
   "id": "fa215d19-f7ac-410d-8c32-082fe845ce47",
   "metadata": {},
   "outputs": [
    {
     "data": {
      "text/plain": [
       "<re.Match object; span=(2, 3), match='3'>"
      ]
     },
     "execution_count": 12,
     "metadata": {},
     "output_type": "execute_result"
    }
   ],
   "source": [
    "rd.match('123', 2)"
   ]
  },
  {
   "cell_type": "code",
   "execution_count": 57,
   "id": "159b2fea-ccd2-4732-ab13-88bca2817f0c",
   "metadata": {},
   "outputs": [
    {
     "name": "stdout",
     "output_type": "stream",
     "text": [
      "554003\n"
     ]
    }
   ],
   "source": [
    "total = 0\n",
    "r = re.compile('[^\\d.\\n]') # symbol nto a digit or .\n",
    "rd = re.compile('\\d+') # symbols\n",
    "\n",
    "#print(row_size)\n",
    "def search_vertical(array, r, c, regex):\n",
    "    top = None\n",
    "    bot = None\n",
    "    if(r > 0): # Above\n",
    "        top =regex.search(array[r-1], c, c+1)\n",
    "    if(r < len(array) - 1): # below\n",
    "        bot =regex.search(array[r+1], c, c+1)\n",
    "    if(top or bot):\n",
    "        return True\n",
    "with open('input.txt', 'r') as f:\n",
    "    file = f.read()\n",
    "    files = '''467..114..\n",
    "...*......\n",
    "..35..633.\n",
    "......#...\n",
    "617*......\n",
    ".....+.58.\n",
    "..592.....\n",
    "......755.\n",
    "...$.*....\n",
    ".664.598..'''\n",
    "\n",
    "    matrix = file.split('\\n')\n",
    "    symbols_per_line = [rd.finditer(m) for m in matrix]\n",
    "    row_size = len(matrix[0])\n",
    "    for row in range(len(symbols_per_line)):\n",
    "        i = symbols_per_line[row]\n",
    "        #print(matrix[row])\n",
    "        for match in i:\n",
    "            for column in range(match.start(), match.end()):\n",
    "                # preceeding\n",
    "                if(column > 0):\n",
    "                    search = r.search(matrix[row], column-1, column)\n",
    "                    vsearch = search_vertical(matrix, row, column-1, r)\n",
    "                    if search or vsearch:\n",
    "                        total += int(match.group(0))\n",
    "                        break\n",
    "                    #print((matrix[row][column-1:column]))\n",
    "                # same\n",
    "                if search_vertical(matrix, row, column, r):\n",
    "                    total += int(match.group(0))\n",
    "                    break\n",
    "                # next\n",
    "                if(column + 1 < row_size):\n",
    "                    search = r.search(matrix[row], column+1, column+2)\n",
    "                    vsearch = search_vertical(matrix, row, column+1, r)\n",
    "                    if search or vsearch:\n",
    "                        total += int(match.group(0))\n",
    "                        break\n",
    "                    #print((matrix[row][column+1:column+2]))\n",
    "\n",
    "\n",
    "\n",
    "print(total)"
   ]
  },
  {
   "cell_type": "code",
   "execution_count": 63,
   "id": "ab3e10aa-396e-4293-89b4-fe9a84a763e5",
   "metadata": {},
   "outputs": [
    {
     "name": "stdout",
     "output_type": "stream",
     "text": [
      "0\n"
     ]
    }
   ],
   "source": [
    "# part 2\n",
    "total = 0\n",
    "r = re.compile('[^\\d.\\n]') # symbol nto a digit or .\n",
    "rd = re.compile('\\d+') # digits\n",
    "test = '''467..114..\n",
    "...*......\n",
    "..35..633.\n",
    "......#...\n",
    "617*......\n",
    ".....+.58.\n",
    "..592.....\n",
    "......755.\n",
    "...$.*....\n",
    ".664.598..'''\n",
    "\n",
    "#print(row_size)\n",
    "def search_vertical(array, r, c, regex):\n",
    "    top = None\n",
    "    bot = None\n",
    "    if(r > 0): # Above\n",
    "        top =regex.search(array[r-1], c, c+1)\n",
    "    if(r < len(array) - 1): # below\n",
    "        bot =regex.search(array[r+1], c, c+1)\n",
    "    if(top or bot):\n",
    "        return True\n",
    "with open('input.txt', 'r') as f:\n",
    "    file = f.read()\n",
    "    matrix = file.split('\\n')\n",
    "    symbols_per_line = [r.finditer(m) for m in matrix]\n",
    "    digits_per_line = [rd.finditer(m) for m in matrix]\n",
    "    for row in range(len(symbols_per_line)):\n",
    "        for match in symbols_per_line[row]:\n",
    "            gear_values = []\n",
    "            # above\n",
    "            if row > 0:\n",
    "                for digits in digits_per_line[row-1]:\n",
    "                    span = digits.span() # \n",
    "            # same\n",
    "            \n",
    "            # below\n",
    "            \n",
    "\n",
    "\n",
    "print(total)"
   ]
  }
 ],
 "metadata": {
  "kernelspec": {
   "display_name": "Python 3 (ipykernel)",
   "language": "python",
   "name": "python3"
  },
  "language_info": {
   "codemirror_mode": {
    "name": "ipython",
    "version": 3
   },
   "file_extension": ".py",
   "mimetype": "text/x-python",
   "name": "python",
   "nbconvert_exporter": "python",
   "pygments_lexer": "ipython3",
   "version": "3.9.12"
  }
 },
 "nbformat": 4,
 "nbformat_minor": 5
}
