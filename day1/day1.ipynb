{
 "cells": [
  {
   "cell_type": "code",
   "execution_count": 2,
   "id": "172255bc-2561-4b5c-99bb-9c2b29cb705c",
   "metadata": {},
   "outputs": [],
   "source": [
    "import re\n",
    "import os"
   ]
  },
  {
   "cell_type": "code",
   "execution_count": 21,
   "id": "c077799e-311b-40bc-9aaf-92587c1bf881",
   "metadata": {},
   "outputs": [
    {
     "name": "stdout",
     "output_type": "stream",
     "text": [
      "['_CHUNK_SIZE', '__class__', '__del__', '__delattr__', '__dict__', '__dir__', '__doc__', '__enter__', '__eq__', '__exit__', '__format__', '__ge__', '__getattribute__', '__gt__', '__hash__', '__init__', '__init_subclass__', '__iter__', '__le__', '__lt__', '__ne__', '__new__', '__next__', '__reduce__', '__reduce_ex__', '__repr__', '__setattr__', '__sizeof__', '__str__', '__subclasshook__', '_checkClosed', '_checkReadable', '_checkSeekable', '_checkWritable', '_finalizing', 'buffer', 'close', 'closed', 'detach', 'encoding', 'errors', 'fileno', 'flush', 'isatty', 'line_buffering', 'mode', 'name', 'newlines', 'read', 'readable', 'readline', 'readlines', 'reconfigure', 'seek', 'seekable', 'tell', 'truncate', 'writable', 'write', 'write_through', 'writelines']\n"
     ]
    },
    {
     "data": {
      "text/plain": [
       "55123"
      ]
     },
     "execution_count": 21,
     "metadata": {},
     "output_type": "execute_result"
    }
   ],
   "source": [
    "# Part 1\n",
    "calibration_sum = 0\n",
    "\n",
    "with open(\"input1.txt\", 'r') as f:\n",
    "    file = f.read()\n",
    "    lines = file.split('\\n')\n",
    "    r = re.compile('[0-9]')\n",
    "    for line in lines:\n",
    "        digits = r.findall(line)\n",
    "        calibration_sum += int(digits[0] + digits[-1])\n",
    "calibration_sum"
   ]
  },
  {
   "cell_type": "code",
   "execution_count": 27,
   "id": "50233522-5aa3-4f88-aa07-3cfa573e10ba",
   "metadata": {},
   "outputs": [
    {
     "data": {
      "text/plain": [
       "'five3onelxjninenine45'"
      ]
     },
     "execution_count": 27,
     "metadata": {},
     "output_type": "execute_result"
    }
   ],
   "source": [
    "r = re.compile(\"five|nine\")\n",
    "lines[0]"
   ]
  },
  {
   "cell_type": "code",
   "execution_count": 28,
   "id": "0ffe4446-b293-437c-8d8d-61d01adfb006",
   "metadata": {},
   "outputs": [
    {
     "data": {
      "text/plain": [
       "['five', 'nine', 'nine']"
      ]
     },
     "execution_count": 28,
     "metadata": {},
     "output_type": "execute_result"
    }
   ],
   "source": [
    "r.findall(lines[0])"
   ]
  },
  {
   "cell_type": "code",
   "execution_count": 30,
   "id": "ba2fe1e3-49b5-4ca2-8075-67fe8714b178",
   "metadata": {},
   "outputs": [
    {
     "data": {
      "text/plain": [
       "55260"
      ]
     },
     "execution_count": 30,
     "metadata": {},
     "output_type": "execute_result"
    }
   ],
   "source": [
    "# Part 2\n",
    "calibration_sum = 0\n",
    "digit_dict = {\n",
    "    'one': '1',\n",
    "    'two': '2',\n",
    "    'three': '3',\n",
    "    'four': '4',\n",
    "    'five': '5',\n",
    "    'six': '6',\n",
    "    'seven': '7',\n",
    "    'eight': '8',\n",
    "    'nine': '9',\n",
    "}\n",
    "\n",
    "with open(\"input1.txt\", 'r') as f:\n",
    "    file = f.read()\n",
    "    files = '''two1nine\n",
    "eightwothree\n",
    "abcone2threexyz\n",
    "xtwone3four\n",
    "4nineeightseven2\n",
    "zoneight234\n",
    "7pqrstsixteen'''\n",
    "    #file = '3onefqltjzdrfourcpkfhceightwomc'\n",
    "    lines = file.split('\\n')\n",
    "    #https://stackoverflow.com/questions/5616822/how-to-use-regex-to-find-all-overlapping-matches\n",
    "    r = re.compile('(?=([0-9]|' + \"|\".join(digit_dict.keys()) + \"))\")\n",
    "    for line in lines:\n",
    "       # digits = r.findall(line)\n",
    "        digits = [m.group(1) for m in r.finditer(line)]\n",
    "        # print(digits)\n",
    "        # print(digit_dict[digits[0]] if digits[0] in digit_dict.keys() else digits[0]) \n",
    "        # print(digit_dict[digits[-1]] if digits[-1] in digit_dict.keys() else digits[-1])\n",
    "        # print(int((digit_dict[digits[0]] if digits[0] in digit_dict.keys() else digits[0]) +\n",
    "        #                        (digit_dict[digits[-1]] if digits[-1] in digit_dict.keys() else digits[-1])))\n",
    "        calibration_sum += int((digit_dict[digits[0]] if digits[0] in digit_dict.keys() else digits[0]) +\n",
    "                               (digit_dict[digits[-1]] if digits[-1] in digit_dict.keys() else digits[-1]))\n",
    "calibration_sum"
   ]
  },
  {
   "cell_type": "code",
   "execution_count": 24,
   "id": "09921d9a-7e76-4cb6-86bb-c205c700e26f",
   "metadata": {},
   "outputs": [
    {
     "name": "stdout",
     "output_type": "stream",
     "text": [
      "(?=([0-9]|one|two|three|four|five|six|seven|eight|nine))\n"
     ]
    }
   ],
   "source": [
    "ss = \"3onefqltjzdrfourcpkfhceightwomc\"\n",
    "print('(?=([0-9]|' + \"|\".join(digit_dict.keys()) + \"))\")\n",
    "r = re.compile('(?=([0-9]|' + \"|\".join(digit_dict.keys()) + \"))\")\n",
    "\n",
    "for m in re.finditer('(?=(AA))', ss):\n",
    "    print (m.start(), m.end(), m.group(1))"
   ]
  }
 ],
 "metadata": {
  "kernelspec": {
   "display_name": "Python 3 (ipykernel)",
   "language": "python",
   "name": "python3"
  },
  "language_info": {
   "codemirror_mode": {
    "name": "ipython",
    "version": 3
   },
   "file_extension": ".py",
   "mimetype": "text/x-python",
   "name": "python",
   "nbconvert_exporter": "python",
   "pygments_lexer": "ipython3",
   "version": "3.9.12"
  }
 },
 "nbformat": 4,
 "nbformat_minor": 5
}
