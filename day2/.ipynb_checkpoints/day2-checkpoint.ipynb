{
 "cells": [
  {
   "cell_type": "code",
   "execution_count": 71,
   "id": "9c331097-08e7-44c6-b830-590461e4dad8",
   "metadata": {},
   "outputs": [],
   "source": [
    "import re"
   ]
  },
  {
   "cell_type": "code",
   "execution_count": 50,
   "id": "a4f8fa68-558e-4411-8d69-4bdb7c7a34b3",
   "metadata": {},
   "outputs": [
    {
     "name": "stdout",
     "output_type": "stream",
     "text": [
      "2447\n"
     ]
    }
   ],
   "source": [
    "# part 1\n",
    "limits = {\n",
    "    \" red\": 12,\n",
    "    \" green\": 13,\n",
    "    \" blue\": 14\n",
    "}\n",
    "r = re.compile('(\\d+)( green| blue| red)')\n",
    "#test = '7 green, 4 blue, 3 red; 4 blue, 10 red, 10 green; 1 blue, 9 red'\n",
    "#print(r.findall(test))\n",
    "total = 0\n",
    "with open('input.txt', 'r') as f:\n",
    "    file = f.read()\n",
    "    files = '''Game 1: 3 blue, 4 red; 1 red, 2 green, 6 blue; 2 green\n",
    "Game 2: 1 blue, 2 green; 3 green, 4 blue, 1 red; 1 green, 1 blue\n",
    "Game 3: 8 green, 6 blue, 20 red; 5 blue, 4 red, 13 green; 5 green, 1 red\n",
    "Game 4: 1 green, 3 red, 6 blue; 3 green, 6 red; 3 green, 15 blue, 14 red\n",
    "Game 5: 6 red, 1 blue, 3 green; 2 blue, 1 red, 2 green'''\n",
    "    lines = file.split('\\n')\n",
    "    for line in lines:\n",
    "        colon = line.find(':')\n",
    "        game_num = int(line[:colon].split(' ')[1])\n",
    "        game = line[colon+2:]\n",
    "        draws = r.findall(game)\n",
    "        #print(draws)\n",
    "        draws = [int(draw[0]) <= limits[draw[1]] for draw in draws]\n",
    "        #print(draws)\n",
    "        if all(draws):\n",
    "            total += game_num\n",
    "        #print(rounds)\n",
    "print(total)"
   ]
  },
  {
   "cell_type": "code",
   "execution_count": null,
   "id": "6788531c-dbc9-4c49-8d4b-e3939702a4d7",
   "metadata": {},
   "outputs": [],
   "source": []
  },
  {
   "cell_type": "code",
   "execution_count": 70,
   "id": "66d66cf9-29d5-449a-9c50-f48fd41db484",
   "metadata": {},
   "outputs": [
    {
     "name": "stdout",
     "output_type": "stream",
     "text": [
      "56322\n"
     ]
    }
   ],
   "source": [
    "total = 0\n",
    "with open('input.txt', 'r') as f:\n",
    "    file = f.read()\n",
    "#     file = '''Game 1: 3 blue, 4 red; 1 red, 2 green, 6 blue; 2 green\n",
    "# Game 2: 1 blue, 2 green; 3 green, 4 blue, 1 red; 1 green, 1 blue\n",
    "# Game 3: 8 green, 6 blue, 20 red; 5 blue, 4 red, 13 green; 5 green, 1 red\n",
    "# Game 4: 1 green, 3 red, 6 blue; 3 green, 6 red; 3 green, 15 blue, 14 red\n",
    "# Game 5: 6 red, 1 blue, 3 green; 2 blue, 1 red, 2 green'''\n",
    "    lines = file.split('\\n')\n",
    "    for line in lines:\n",
    "        mins = {\n",
    "            \" red\": 0,\n",
    "            \" green\": 0,\n",
    "            \" blue\": 0\n",
    "        }\n",
    "        colon = line.find(':')\n",
    "        game_num = int(line[:colon].split(' ')[1])\n",
    "        game = line[colon+2:]\n",
    "        draws = r.findall(game)\n",
    "        #print(draws)\n",
    "        for draw in draws:\n",
    "            mins[draw[1]] = max(mins[draw[1]], int(draw[0]))\n",
    "        #print(mins)\n",
    "        #draws = [int(draw[0]) <= limits[draw[1]] for draw in draws]\n",
    "        power = 1\n",
    "        for k in mins.keys():\n",
    "            power *= mins[k]\n",
    "        total += power\n",
    "        #print(draws)\n",
    "        #print(rounds)\n",
    "print(total)"
   ]
  }
 ],
 "metadata": {
  "kernelspec": {
   "display_name": "Python 3 (ipykernel)",
   "language": "python",
   "name": "python3"
  },
  "language_info": {
   "codemirror_mode": {
    "name": "ipython",
    "version": 3
   },
   "file_extension": ".py",
   "mimetype": "text/x-python",
   "name": "python",
   "nbconvert_exporter": "python",
   "pygments_lexer": "ipython3",
   "version": "3.9.12"
  }
 },
 "nbformat": 4,
 "nbformat_minor": 5
}
